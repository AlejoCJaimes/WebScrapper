{
 "cells": [
  {
   "cell_type": "code",
   "execution_count": 16,
   "metadata": {},
   "outputs": [],
   "source": [
    "import pandas as pd\n",
    "import numpy as np\n",
    "import matplotlib.pyplot as plt\n",
    "from tabulate import tabulate"
   ]
  },
  {
   "cell_type": "code",
   "execution_count": 6,
   "metadata": {},
   "outputs": [],
   "source": [
    "# resource = 'https://drive.google.com/uc?export=download&id=1by5_2HhJ4WO5VBJ0Tc9OZStPqDwiAUYW'\n",
    "resource = 'https://drive.google.com/uc?export=download&id=15tURO14aosIqB2pIc-fJQ_pgHAPM8Ho-'\n",
    "dataset = pd.read_csv(resource)"
   ]
  },
  {
   "cell_type": "markdown",
   "metadata": {},
   "source": [
    "## Definir Ponderacion\n",
    "___\n",
    "\n",
    "- Ponderaciones asignadas al programa académico de Ingeniería de Sistemas (UP)\n",
    "  \n",
    "|Ciencias Naturales|Lectura Crítica|Matemáticas|Sociales y Ciudadanias|Inglés|\n",
    "|--|--|--|--|--|\n",
    "|45%|15%|35%|0%|5%| "
   ]
  },
  {
   "cell_type": "markdown",
   "metadata": {},
   "source": [
    "## Proceso de Selección\n",
    "___\n",
    "\n",
    "- Multiplicacion del ponderado asignado a cada una de las áreas del ICFES \n",
    "   de la universidad por el valor de los resultados del Exámen ICFES Saber 11\n"
   ]
  },
  {
   "cell_type": "code",
   "execution_count": 7,
   "metadata": {},
   "outputs": [],
   "source": [
    "def selection_process(dataset):\n",
    "    # Define ponderation\n",
    "    nature_sciences = 0.45\n",
    "    critical_reading = 0.15\n",
    "    maths = 0.35\n",
    "    sociology = 0\n",
    "    english = 0.05\n",
    "\n",
    "    # create sub_dataset \n",
    "    columns=['punt_lectura_critica',\n",
    "            'punt_matematicas',\n",
    "            'punt_c_naturales',\n",
    "            'punt_sociales_ciudadanas',\n",
    "            'punt_ingles',\n",
    "            'punt_global']\n",
    "\n",
    "    df = pd.DataFrame(data=dataset,index=None,columns=columns)\n",
    "\n",
    "    # transform_columns\n",
    "\n",
    "    df['punt_lectura_critica'] = df['punt_lectura_critica'] * critical_reading\n",
    "    df['punt_matematicas'] = df['punt_matematicas'] * maths\n",
    "    df['punt_c_naturales'] = df['punt_c_naturales'] * nature_sciences\n",
    "    df['punt_sociales_ciudadanas'] = df['punt_sociales_ciudadanas'] * sociology\n",
    "    df['punt_ingles'] = df['punt_ingles'] * english\n",
    "\n",
    "    # calculate punt_ponderate\n",
    "    df['punt_ponderado'] = df.iloc[:,:5].sum(axis=1)\n",
    "\n",
    "    # move the last column to penult position\n",
    "    df_cols = df.columns.tolist()\n",
    "    reorder = columns[:-1] + df_cols[-1:]\n",
    "    reorder.append(columns[-1])\n",
    "    reorder\n",
    "\n",
    "    df = df[reorder]\n",
    "    return df.sort_values(by=['punt_ponderado','punt_global'], ascending=False)"
   ]
  },
  {
   "cell_type": "markdown",
   "metadata": {},
   "source": [
    "### Porcentaje de Selección\n",
    "___\n",
    "- Para seleccionar un top de 5 puestos, se define:\n",
    "\n",
    "|Puesto|%Ponderado|\n",
    "|--|--|\n",
    "|1|> 60%|\n",
    "|2|[55% - 60%)|\n",
    "|3|[45% - 55%)|\n",
    "|4|[35% - 45%)|\n",
    "|5|< 35%|\n"
   ]
  },
  {
   "cell_type": "markdown",
   "metadata": {},
   "source": [
    "#"
   ]
  },
  {
   "cell_type": "code",
   "execution_count": 21,
   "metadata": {},
   "outputs": [
    {
     "data": {
      "text/plain": [
       "(15435, 8)"
      ]
     },
     "execution_count": 21,
     "metadata": {},
     "output_type": "execute_result"
    }
   ],
   "source": [
    "# conditions\n",
    "def define_top(df):\n",
    "    df_positions = df.copy()\n",
    "    df_positions['puesto'] = np.where(df_positions.punt_ponderado>60,1,\n",
    "                                np.where((df_positions.punt_ponderado>=55) & (df_positions.punt_ponderado<60),2,\n",
    "                                np.where((df_positions.punt_ponderado>=45) & (df_positions.punt_ponderado<55),3,\n",
    "                                np.where((df_positions.punt_ponderado>=35) & (df_positions.punt_ponderado<45),4,\n",
    "                                np.where(df_positions.punt_ponderado<35,5,0)))))\n",
    "    return df_positions.sort_values(by=['punt_ponderado','punt_global'], ascending=False)\n",
    "\n",
    "df = selection_process(dataset)\n",
    "df_positions= define_top(df)\n",
    "\n",
    "df_positions.shape\n"
   ]
  },
  {
   "cell_type": "markdown",
   "metadata": {},
   "source": [
    "### Estadísticas de Admisión UP\n",
    "___\n",
    "- Aplica solo para programa Ing de Sistemas\n",
    "  - **Notas Aclaratorias**\n",
    "    - El puntaje corresponde a los obtenidos por los aspirantes en la línea de corte desde el proceso de admisión de __PrimerSemestre 2017__ y __SegundoSemestre 2021__. Estos puntajes de corte no representan los requisitos de inscripción y/o admisión.\n",
    "    - La información hace referencia a datos estadísticos. Los puntajes de corte para el próximo proceso de admisión pueden variar y depende únicamente de los puntajes de los aspirantes inscritos en cada proceso de admisión.\n",
    "     \n"
   ]
  },
  {
   "cell_type": "markdown",
   "metadata": {},
   "source": [
    "## Regresión Logística\n",
    "- En estadística, la regresión logística es un tipo de análisis de regresión utilizado para predecir el resultado de una variable categórica (una variable que puede adoptar un número limitado de categorías) en función de las variables independientes o predictoras. Es útil para modelar la probabilidad de un evento ocurriendo en función de otros factores. El análisis de regresión logística se enmarca en el conjunto de Modelos Lineales Generalizados (GLM por sus siglas en inglés) que usa como función de enlace la función logit. En este modelo, las probabilidades que describen los posibles resultados de un solo ensayo se modelan utilizando una función logística.\n",
    "\n",
    "## Objetivo\n",
    "\n",
    "- El objetivo es predecir si un aspirante de ICFES Saber 11, puede acceder al programa de Ing de Sistemas en una institución de calidad superior como lo es la Universidad de Pamplona."
   ]
  },
  {
   "cell_type": "markdown",
   "metadata": {},
   "source": [
    "### Lectura de Dataset\n",
    "___\n",
    "\n",
    "- El dataset histórico, está alimentado por 88 datos, que serán tomados en cuenta \n",
    "  para la regresión. "
   ]
  },
  {
   "cell_type": "code",
   "execution_count": 9,
   "metadata": {},
   "outputs": [],
   "source": [
    "url = 'https://drive.google.com/uc?export=download&id=1Ld0oPw01AWrJE7xj3M-8szK0ORq6Lj0P'\n",
    "historic_up = pd.read_csv(url)"
   ]
  },
  {
   "cell_type": "code",
   "execution_count": 10,
   "metadata": {},
   "outputs": [
    {
     "data": {
      "text/plain": [
       "(88, 1)"
      ]
     },
     "execution_count": 10,
     "metadata": {},
     "output_type": "execute_result"
    }
   ],
   "source": [
    "# Dimensión Dataset\n",
    "historic_up.shape"
   ]
  },
  {
   "cell_type": "code",
   "execution_count": 18,
   "metadata": {},
   "outputs": [],
   "source": [
    "from sklearn.linear_model import LogisticRegression\n",
    "from sklearn.model_selection import train_test_split\n",
    "from sklearn.preprocessing import StandardScaler"
   ]
  },
  {
   "cell_type": "code",
   "execution_count": 15,
   "metadata": {},
   "outputs": [],
   "source": [
    "# feature entineering (one hot encoding)\n",
    "# saber_11 = pd.get_dummies(df_positions['punt_ponderado'])\n",
    "# saber_11\n",
    "\n",
    "# Variables de Predicción\n",
    "X = historic_up.Punt_obtenido_2017_1 \n",
    "Y = historic_up.Punt_obtenido_2017_1 # target\n",
    "# Segment data\n",
    "X_train, X_test, y_train, y_test = train_test_split(X, Y, test_size=0.7)\n",
    "scalar = StandardScaler()\n",
    "\n"
   ]
  }
 ],
 "metadata": {
  "interpreter": {
   "hash": "916dbcbb3f70747c44a77c7bcd40155683ae19c65e1c03b4aa3499c5328201f1"
  },
  "kernelspec": {
   "display_name": "Python 3.8.10 64-bit",
   "language": "python",
   "name": "python3"
  },
  "language_info": {
   "codemirror_mode": {
    "name": "ipython",
    "version": 3
   },
   "file_extension": ".py",
   "mimetype": "text/x-python",
   "name": "python",
   "nbconvert_exporter": "python",
   "pygments_lexer": "ipython3",
   "version": "3.8.10"
  },
  "orig_nbformat": 4
 },
 "nbformat": 4,
 "nbformat_minor": 2
}
