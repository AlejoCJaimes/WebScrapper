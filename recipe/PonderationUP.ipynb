{
 "cells": [
  {
   "cell_type": "code",
   "execution_count": 1,
   "metadata": {},
   "outputs": [],
   "source": [
    "import pandas as pd\n",
    "import numpy as np\n",
    "import matplotlib.pyplot as plt\n",
    "from tabulate import tabulate"
   ]
  },
  {
   "cell_type": "code",
   "execution_count": 2,
   "metadata": {},
   "outputs": [],
   "source": [
    "# resource = 'https://drive.google.com/uc?export=download&id=1by5_2HhJ4WO5VBJ0Tc9OZStPqDwiAUYW'\n",
    "resource = 'https://drive.google.com/uc?export=download&id=15tURO14aosIqB2pIc-fJQ_pgHAPM8Ho-'\n",
    "dataset = pd.read_csv(resource)"
   ]
  },
  {
   "cell_type": "markdown",
   "metadata": {},
   "source": [
    "## Definir Ponderacion\n",
    "___\n",
    "\n",
    "- Ponderaciones asignadas al programa académico de Ingeniería de Sistemas (UP)\n",
    "  \n",
    "|Ciencias Naturales|Lectura Crítica|Matemáticas|Sociales y Ciudadanias|Inglés|\n",
    "|--|--|--|--|--|\n",
    "|45%|15%|35%|0%|5%| "
   ]
  },
  {
   "cell_type": "markdown",
   "metadata": {},
   "source": [
    "## Proceso de Selección\n",
    "___\n",
    "\n",
    "- Multiplicacion del ponderado asignado a cada una de las áreas del ICFES \n",
    "   de la universidad por el valor de los resultados del Exámen ICFES Saber 11\n"
   ]
  },
  {
   "cell_type": "code",
   "execution_count": 3,
   "metadata": {},
   "outputs": [
    {
     "data": {
      "text/html": [
       "<div>\n",
       "<style scoped>\n",
       "    .dataframe tbody tr th:only-of-type {\n",
       "        vertical-align: middle;\n",
       "    }\n",
       "\n",
       "    .dataframe tbody tr th {\n",
       "        vertical-align: top;\n",
       "    }\n",
       "\n",
       "    .dataframe thead th {\n",
       "        text-align: right;\n",
       "    }\n",
       "</style>\n",
       "<table border=\"1\" class=\"dataframe\">\n",
       "  <thead>\n",
       "    <tr style=\"text-align: right;\">\n",
       "      <th></th>\n",
       "      <th>punt_lectura_critica</th>\n",
       "      <th>punt_matematicas</th>\n",
       "      <th>punt_c_naturales</th>\n",
       "      <th>punt_sociales_ciudadanas</th>\n",
       "      <th>punt_ingles</th>\n",
       "      <th>pond_lectura_critica</th>\n",
       "      <th>pond_matematicas</th>\n",
       "      <th>pond_c_naturales</th>\n",
       "      <th>pond_sociales_ciudadanas</th>\n",
       "      <th>pond_ingles</th>\n",
       "      <th>punt_ponderado</th>\n",
       "      <th>punt_global</th>\n",
       "    </tr>\n",
       "  </thead>\n",
       "  <tbody>\n",
       "    <tr>\n",
       "      <th>0</th>\n",
       "      <td>39</td>\n",
       "      <td>32</td>\n",
       "      <td>35</td>\n",
       "      <td>24</td>\n",
       "      <td>36.0</td>\n",
       "      <td>5.85</td>\n",
       "      <td>11.20</td>\n",
       "      <td>15.75</td>\n",
       "      <td>0</td>\n",
       "      <td>1.80</td>\n",
       "      <td>32.80</td>\n",
       "      <td>164</td>\n",
       "    </tr>\n",
       "    <tr>\n",
       "      <th>1</th>\n",
       "      <td>41</td>\n",
       "      <td>41</td>\n",
       "      <td>39</td>\n",
       "      <td>44</td>\n",
       "      <td>30.0</td>\n",
       "      <td>6.15</td>\n",
       "      <td>14.35</td>\n",
       "      <td>17.55</td>\n",
       "      <td>0</td>\n",
       "      <td>1.50</td>\n",
       "      <td>38.05</td>\n",
       "      <td>202</td>\n",
       "    </tr>\n",
       "    <tr>\n",
       "      <th>2</th>\n",
       "      <td>37</td>\n",
       "      <td>36</td>\n",
       "      <td>33</td>\n",
       "      <td>24</td>\n",
       "      <td>30.0</td>\n",
       "      <td>5.55</td>\n",
       "      <td>12.60</td>\n",
       "      <td>14.85</td>\n",
       "      <td>0</td>\n",
       "      <td>1.50</td>\n",
       "      <td>33.00</td>\n",
       "      <td>162</td>\n",
       "    </tr>\n",
       "    <tr>\n",
       "      <th>3</th>\n",
       "      <td>38</td>\n",
       "      <td>42</td>\n",
       "      <td>38</td>\n",
       "      <td>33</td>\n",
       "      <td>37.0</td>\n",
       "      <td>5.70</td>\n",
       "      <td>14.70</td>\n",
       "      <td>17.10</td>\n",
       "      <td>0</td>\n",
       "      <td>1.85</td>\n",
       "      <td>37.50</td>\n",
       "      <td>188</td>\n",
       "    </tr>\n",
       "    <tr>\n",
       "      <th>4</th>\n",
       "      <td>58</td>\n",
       "      <td>50</td>\n",
       "      <td>50</td>\n",
       "      <td>53</td>\n",
       "      <td>80.0</td>\n",
       "      <td>8.70</td>\n",
       "      <td>17.50</td>\n",
       "      <td>22.50</td>\n",
       "      <td>0</td>\n",
       "      <td>4.00</td>\n",
       "      <td>48.70</td>\n",
       "      <td>274</td>\n",
       "    </tr>\n",
       "  </tbody>\n",
       "</table>\n",
       "</div>"
      ],
      "text/plain": [
       "   punt_lectura_critica  punt_matematicas  punt_c_naturales  \\\n",
       "0                    39                32                35   \n",
       "1                    41                41                39   \n",
       "2                    37                36                33   \n",
       "3                    38                42                38   \n",
       "4                    58                50                50   \n",
       "\n",
       "   punt_sociales_ciudadanas  punt_ingles  pond_lectura_critica  \\\n",
       "0                        24         36.0                  5.85   \n",
       "1                        44         30.0                  6.15   \n",
       "2                        24         30.0                  5.55   \n",
       "3                        33         37.0                  5.70   \n",
       "4                        53         80.0                  8.70   \n",
       "\n",
       "   pond_matematicas  pond_c_naturales  pond_sociales_ciudadanas  pond_ingles  \\\n",
       "0             11.20             15.75                         0         1.80   \n",
       "1             14.35             17.55                         0         1.50   \n",
       "2             12.60             14.85                         0         1.50   \n",
       "3             14.70             17.10                         0         1.85   \n",
       "4             17.50             22.50                         0         4.00   \n",
       "\n",
       "   punt_ponderado  punt_global  \n",
       "0           32.80          164  \n",
       "1           38.05          202  \n",
       "2           33.00          162  \n",
       "3           37.50          188  \n",
       "4           48.70          274  "
      ]
     },
     "execution_count": 3,
     "metadata": {},
     "output_type": "execute_result"
    }
   ],
   "source": [
    "def selection_process(dataset):\n",
    "    # Define ponderation\n",
    "    nature_sciences = 0.45\n",
    "    critical_reading = 0.15\n",
    "    maths = 0.35\n",
    "    sociology = 0\n",
    "    english = 0.05\n",
    "\n",
    "    # create sub_dataset \n",
    "    columns=['punt_lectura_critica',\n",
    "            'punt_matematicas',\n",
    "            'punt_c_naturales',\n",
    "            'punt_sociales_ciudadanas',\n",
    "            'punt_ingles',\n",
    "            'punt_global']\n",
    "\n",
    "    df = pd.DataFrame(data=dataset,index=None,columns=columns)\n",
    "\n",
    "    # transform_columns\n",
    "\n",
    "    df['pond_lectura_critica'] = df['punt_lectura_critica'] * critical_reading\n",
    "    df['pond_matematicas'] = df['punt_matematicas'] * maths\n",
    "    df['pond_c_naturales'] = df['punt_c_naturales'] * nature_sciences\n",
    "    df['pond_sociales_ciudadanas'] = df['punt_sociales_ciudadanas'] * sociology\n",
    "    df['pond_ingles'] = df['punt_ingles'] * english\n",
    "\n",
    "    # calculate punt_ponderate\n",
    "\n",
    "\n",
    "\n",
    "    df['punt_ponderado'] = df.iloc[:,6:10].sum(axis=1)\n",
    "\n",
    "    # move the last column to penult position\n",
    "    df_cols = df.columns.tolist()\n",
    "    df_cols = df_cols[:-7] + df_cols[6:] +  columns[-1:] \n",
    "\n",
    "\n",
    "    df = df[df_cols]\n",
    "    return df #df.sort_values(by=['punt_ponderado','punt_global'], ascending=False)\n",
    "df = selection_process(dataset)\n",
    "df.head(5)"
   ]
  },
  {
   "cell_type": "markdown",
   "metadata": {},
   "source": [
    "### Porcentaje de Seleccion\n",
    "___\n",
    "- Para seleccionar un top de 5 puestos, se realiza por cuartiles,\n",
    "para la cual se tiene que:\n",
    "\n",
    "|Puesto|%Ponderado|\n",
    "|--|--|\n",
    "|1|> 95%|\n",
    "|2|[63.2% - 95%)|\n",
    "|3|[55.75% - 63.2%)|\n",
    "|4|[46.5% - 55.75%)|\n",
    "|5|[0% - 46.5%)|\n"
   ]
  },
  {
   "cell_type": "markdown",
   "metadata": {},
   "source": [
    "#"
   ]
  },
  {
   "cell_type": "code",
   "execution_count": 56,
   "metadata": {},
   "outputs": [
    {
     "data": {
      "text/plain": [
       "<AxesSubplot:>"
      ]
     },
     "execution_count": 56,
     "metadata": {},
     "output_type": "execute_result"
    },
    {
     "data": {
      "image/png": "[encoded data removed]",
      "text/plain": [
       "<Figure size 432x288 with 1 Axes>"
      ]
     },
     "metadata": {
      "needs_background": "light"
     },
     "output_type": "display_data"
    }
   ],
   "source": [
    "# reglas de negocio\n",
    "def define_top(df):\n",
    "    # Clasificar por cuartiles\n",
    "    df_quantils = df\n",
    "    q1 = np.quantile(df_quantils.punt_ponderado,0)\n",
    "    q2 =  np.quantile(df_quantils.punt_ponderado,.25)\n",
    "    q3 = np.quantile(df_quantils.punt_ponderado,.5)\n",
    "    q4 = np.quantile(df_quantils.punt_ponderado,.75)\n",
    "    q5 = np.quantile(df_quantils.punt_ponderado,1)\n",
    "    df_positions = df.copy()\n",
    "    #crear un atributo puesto, de acuerdo a los cuartiles\n",
    "    df_positions['puesto'] = np.where(df_positions.punt_ponderado>=q5,1,\n",
    "                                np.where((df_positions.punt_ponderado>=q4) & (df_positions.punt_ponderado<q5),2,\n",
    "                                np.where((df_positions.punt_ponderado>=q3) & (df_positions.punt_ponderado<q4),3,\n",
    "                                np.where((df_positions.punt_ponderado>=q2) & (df_positions.punt_ponderado<q3),4,\n",
    "                                np.where((df_positions.punt_ponderado>=q1) & (df_positions.punt_ponderado<q2),5,0)))))\n",
    "    return df_positions.sort_values(by=['punt_ponderado','punt_global'], ascending=False)\n",
    "\n",
    "\n",
    "df = selection_process(dataset)\n",
    "df_positions= define_top(df)\n",
    "# Grafico de Caja\n",
    "df_positions.boxplot(column=['punt_ponderado'],\n",
    "                        return_type='axes', \n",
    "                        rot=45, \n",
    "                        fontsize=11)"
   ]
  },
  {
   "cell_type": "code",
   "execution_count": 510,
   "metadata": {},
   "outputs": [
    {
     "data": {
      "image/png": "[encoded data removed]",
      "text/plain": [
       "<Figure size 432x288 with 1 Axes>"
      ]
     },
     "metadata": {
      "needs_background": "light"
     },
     "output_type": "display_data"
    }
   ],
   "source": [
    "# Plot \n",
    "df_positions.columns\n",
    "x_values = df_positions['puesto'].unique()\n",
    "freq = df_positions.groupby(df_positions['puesto']).count()\n",
    "ra = df_positions['puesto'].value_counts().sort_index()\n",
    "plt.bar(x_values,ra)\n",
    "plt.title('Puntajes Icfes')\n",
    "plt.show()"
   ]
  },
  {
   "cell_type": "markdown",
   "metadata": {},
   "source": [
    "### Estadísticas de Admisión UP\n",
    "___\n",
    "- Aplica solo para programa Ing de Sistemas\n",
    "  - **Notas Aclaratorias**\n",
    "    - El puntaje corresponde a los obtenidos por los aspirantes en la línea de corte desde el proceso de admisión de __PrimerSemestre 2017__ y __SegundoSemestre 2021__. Estos puntajes de corte no representan los requisitos de inscripción y/o admisión.\n",
    "    - La información hace referencia a datos estadísticos. Los puntajes de corte para el próximo proceso de admisión pueden variar y depende únicamente de los puntajes de los aspirantes inscritos en cada proceso de admisión.\n",
    "     \n"
   ]
  },
  {
   "cell_type": "markdown",
   "metadata": {},
   "source": [
    "## Regresión Logística\n",
    "- En estadística, la regresión logística es un tipo de análisis de regresión utilizado para predecir el resultado de una variable categórica (una variable que puede adoptar un número limitado de categorías) en función de las variables independientes o predictoras. Es útil para modelar la probabilidad de un evento ocurriendo en función de otros factores. El análisis de regresión logística se enmarca en el conjunto de Modelos Lineales Generalizados (GLM por sus siglas en inglés) que usa como función de enlace la función logit. En este modelo, las probabilidades que describen los posibles resultados de un solo ensayo se modelan utilizando una función logística.\n",
    "\n",
    "## Objetivo\n",
    "\n",
    "- El objetivo es predecir si un aspirante de ICFES Saber 11, puede acceder al programa de Ing de Sistemas en una institución de calidad superior como lo es la Universidad de Pamplona."
   ]
  },
  {
   "cell_type": "markdown",
   "metadata": {},
   "source": [
    "### Lectura de Dataset\n",
    "___\n",
    "\n",
    "- El dataset histórico, está alimentado por 88 datos, que serán tomados en cuenta \n",
    "  para la regresión. "
   ]
  },
  {
   "cell_type": "code",
   "execution_count": 5,
   "metadata": {},
   "outputs": [],
   "source": [
    "url = 'https://drive.google.com/uc?export=download&id=1pr_00totvz2Wju-UQnySlieoHnDff1-n'\n",
    "# https://drive.google.com/file/d/1UzUhyNwxlzksf6L3ownXlHRwNpnvdyeg/view?usp=sharing\n",
    "# https://docs.google.com/spreadsheets/d/1pr_00totvz2Wju-UQnySlieoHnDff1-n/edit?usp=sharing&ouid=112357711786364972266&rtpof=true&sd=true\n",
    "historic_up = pd.read_excel(url)"
   ]
  },
  {
   "cell_type": "code",
   "execution_count": 39,
   "metadata": {},
   "outputs": [
    {
     "name": "stdout",
     "output_type": "stream",
     "text": [
      "Dimensión: (284, 1)\n",
      "Carácteristicas Dataset\n",
      "        Puntaje Obtenido\n",
      "count        284.000000\n",
      "mean          58.096035\n",
      "std            6.652294\n",
      "min           32.505000\n",
      "25%           54.837500\n",
      "50%           58.200000\n",
      "75%           62.400000\n",
      "max           79.600000\n"
     ]
    }
   ],
   "source": [
    "# Dimensión Dataset Histórico\n",
    "print('Dimensión:',historic_up.shape)\n",
    "print('Carácteristicas Dataset\\n',historic_up.describe())"
   ]
  },
  {
   "cell_type": "code",
   "execution_count": 7,
   "metadata": {},
   "outputs": [],
   "source": [
    "# -*- coding: utf-8 -*-\n",
    "\"\"\"\n",
    "Universidad de Pamplona\n",
    "Facultad de Ingenierías y Arquitectura\n",
    "Programa de Ingenieria de Sistemas\n",
    "#\"\"\"\n",
    "\n",
    "import pandas\n",
    "from sklearn import model_selection\n",
    "from sklearn.metrics import classification_report\n",
    "from sklearn.metrics import confusion_matrix\n",
    "from sklearn.metrics import accuracy_score\n",
    "from sklearn.linear_model import LogisticRegression\n",
    "from sklearn.neural_network import MLPClassifier\n",
    "from sklearn.model_selection import GridSearchCV\n",
    "from sklearn.metrics import plot_confusion_matrix\n"
   ]
  },
  {
   "cell_type": "code",
   "execution_count": 102,
   "metadata": {},
   "outputs": [
    {
     "data": {
      "text/plain": [
       "array([[100., 100., 100.,  78., 100.],\n",
       "       [100., 100., 100.,  80.,  85.],\n",
       "       [ 81., 100., 100.,  79.,  85.],\n",
       "       ...,\n",
       "       [ 22.,  20.,   0.,  18.,   0.],\n",
       "       [  0.,   0.,   0.,   0.,  37.],\n",
       "       [  0.,   0.,   0.,   0.,   0.]])"
      ]
     },
     "execution_count": 102,
     "metadata": {},
     "output_type": "execute_result"
    }
   ],
   "source": [
    "# Se crea una lista de nombres para las etiquetas del frame\n",
    "names=['punt_lectura_critica',\n",
    "            'punt_matematicas',\n",
    "            'punt_c_naturales',\n",
    "            'punt_sociales_ciudadanas',\n",
    "            'punt_ingles','puesto']\n",
    "            \n",
    "# Se crea un data frame\n",
    "dataset = pd.DataFrame(df_positions,columns=names)\n",
    "\n",
    "# Se crea un arreglos que contenga solo los valores numericos de la tabla\n",
    "array = dataset.values\n",
    "# Las primeras 4 columnas que corresponden a las caracteristica se almacenan en X\n",
    "X = array[:,0:5]\n",
    "# La columna 5, que corresponde a la clase, se almacena en Y\n",
    "Y = array[:,-1]\n",
    "# historigraba bartplot\n",
    "X"
   ]
  },
  {
   "cell_type": "code",
   "execution_count": 86,
   "metadata": {},
   "outputs": [
    {
     "name": "stdout",
     "output_type": "stream",
     "text": [
      "El porcentaje de acierto es: 0.8743290764390154\n",
      "[[   0    1    0    0    0]\n",
      " [   0 1368    0    0    0]\n",
      " [   0  276  959  141    0]\n",
      " [   0    0  130 1060  131]\n",
      " [   0    0    0    0 1337]]\n"
     ]
    },
    {
     "data": {
      "text/plain": [
       "array([2.])"
      ]
     },
     "execution_count": 86,
     "metadata": {},
     "output_type": "execute_result"
    },
    {
     "data": {
      "image/png": "[encoded data removed]",
      "text/plain": [
       "<Figure size 432x288 with 2 Axes>"
      ]
     },
     "metadata": {
      "needs_background": "light"
     },
     "output_type": "display_data"
    }
   ],
   "source": [
    "# Se define el tamaño del conjunto de validación, quedando este en 35%\n",
    "validation_size = 0.35\n",
    "seed = 10\n",
    "# Se realiza la división de los datos en los conjuntos de prueba y entrenamiento\n",
    "X_train, X_validation, Y_train, Y_validation = model_selection.train_test_split(X, Y, \n",
    "                                    test_size=validation_size, random_state=seed)\n",
    "\n",
    " \n",
    "\n",
    "# Construcción del modelo\n",
    "LR = LogisticRegression(random_state=0, \n",
    "                        solver='liblinear', \n",
    "                        multi_class='auto')\n",
    "\n",
    "# Entrenamiento del modelo\n",
    "LR.fit(X_train, Y_train)\n",
    "\n",
    "# Hacer predicciones sobre el conjunto de validacion, independiente de la validacion cruzada\n",
    "predictions = LR.predict(X_validation)\n",
    "\n",
    "# Despelgar porcentaje de acierto\n",
    "print(\"El porcentaje de acierto es: %s\" % accuracy_score(Y_validation, predictions))\n",
    "\n",
    "# Imprimit matriz de confusión\n",
    "print(confusion_matrix(Y_validation, predictions))\n",
    "\n",
    "# Graficar matriz de confusion\n",
    "plot_confusion_matrix(LR,X_validation, Y_validation)\n"
   ]
  },
  {
   "cell_type": "code",
   "execution_count": 92,
   "metadata": {},
   "outputs": [
    {
     "name": "stdout",
     "output_type": "stream",
     "text": [
      "The accurracy scoring is: 0.9709420692208033\n",
      "[[   0    1    0    0    0]\n",
      " [   0 1368    0    0    0]\n",
      " [   0  276  959  141    0]\n",
      " [   0    0  130 1060  131]\n",
      " [   0    0    0    0 1337]]\n"
     ]
    },
    {
     "data": {
      "text/plain": [
       "<sklearn.metrics._plot.confusion_matrix.ConfusionMatrixDisplay at 0x7f434e4d1a00>"
      ]
     },
     "execution_count": 92,
     "metadata": {},
     "output_type": "execute_result"
    },
    {
     "data": {
      "image/png": "[encoded data removed]",
      "text/plain": [
       "<Figure size 432x288 with 2 Axes>"
      ]
     },
     "metadata": {
      "needs_background": "light"
     },
     "output_type": "display_data"
    }
   ],
   "source": [
    "clf = MLPClassifier(activation='relu', max_iter=5200, hidden_layer_sizes=(30,30,30), \n",
    "                    learning_rate='adaptive', solver='sgd') \n",
    "\n",
    "clf.fit(X,Y)\n",
    "svm_preditions = clf.predict(X_validation)\n",
    "print(\"The accurracy scoring is: %s\" % accuracy_score(Y_validation, svm_preditions))\n",
    "print(confusion_matrix(Y_validation, predictions))\n",
    "\n",
    "# f1-score\n",
    "# 0.9643705463182898\n",
    "# 0.9591880803282229\n",
    "# 0.9645864824012093\n",
    "# 0.9946015979270136\n",
    "# 0.9963290865903692\n",
    "#0.9954653422586914\n",
    "#0.982509177283524\n",
    "plot_confusion_matrix(clf,X_validation, Y_validation)"
   ]
  },
  {
   "cell_type": "code",
   "execution_count": 93,
   "metadata": {},
   "outputs": [
    {
     "data": {
      "image/png": "[encoded data removed]",
      "text/plain": [
       "<Figure size 432x288 with 1 Axes>"
      ]
     },
     "metadata": {
      "needs_background": "light"
     },
     "output_type": "display_data"
    }
   ],
   "source": [
    "# Plotter Graphics\n",
    "\n",
    "plt.xlabel(\"Repeticiones\")\n",
    "plt.ylabel(\"Magnitud de pérdida\")\n",
    "plt.plot(clf.loss_curve_)\n",
    "plt.show()"
   ]
  },
  {
   "cell_type": "code",
   "execution_count": 94,
   "metadata": {},
   "outputs": [
    {
     "name": "stdout",
     "output_type": "stream",
     "text": [
      "Detailed classification report:\n",
      "\n",
      "The model is trained on the full development set.\n",
      "The scores are computed on the full evaluation set.\n",
      "\n",
      "              precision    recall  f1-score   support\n",
      "\n",
      "         1.0       0.00      0.00      0.00         1\n",
      "         2.0       0.98      0.97      0.98      1368\n",
      "         3.0       0.95      0.97      0.96      1376\n",
      "         4.0       0.96      0.96      0.96      1321\n",
      "         5.0       0.99      0.98      0.98      1337\n",
      "\n",
      "    accuracy                           0.97      5403\n",
      "   macro avg       0.78      0.78      0.78      5403\n",
      "weighted avg       0.97      0.97      0.97      5403\n",
      "\n",
      "\n"
     ]
    },
    {
     "name": "stderr",
     "output_type": "stream",
     "text": [
      "/usr/lib/python3/dist-packages/sklearn/metrics/_classification.py:1272: UndefinedMetricWarning: Precision and F-score are ill-defined and being set to 0.0 in labels with no predicted samples. Use `zero_division` parameter to control this behavior.\n",
      "  _warn_prf(average, modifier, msg_start, len(result))\n"
     ]
    }
   ],
   "source": [
    "print(\"Detailed classification report:\")\n",
    "print()\n",
    "print(\"The model is trained on the full development set.\")\n",
    "print(\"The scores are computed on the full evaluation set.\")\n",
    "print()\n",
    "y_true, y_pred = Y_validation, clf.predict(X_validation)\n",
    "print(classification_report(y_true, y_pred))\n",
    "print()\n",
    "\n",
    "# Se realiza la división de los datos en los conjuntos de prueba y entrenamiento\n",
    "# X_train, X_validation, Y_train, Y_validation = model_selection.train_test_split(X, Y, \n",
    "#                                     test_size=validation_size, random_state=seed)"
   ]
  },
  {
   "cell_type": "code",
   "execution_count": 404,
   "metadata": {},
   "outputs": [
    {
     "data": {
      "text/html": [
       "<div>\n",
       "<style scoped>\n",
       "    .dataframe tbody tr th:only-of-type {\n",
       "        vertical-align: middle;\n",
       "    }\n",
       "\n",
       "    .dataframe tbody tr th {\n",
       "        vertical-align: top;\n",
       "    }\n",
       "\n",
       "    .dataframe thead th {\n",
       "        text-align: right;\n",
       "    }\n",
       "</style>\n",
       "<table border=\"1\" class=\"dataframe\">\n",
       "  <thead>\n",
       "    <tr style=\"text-align: right;\">\n",
       "      <th></th>\n",
       "      <th>Puntaje Obtenido</th>\n",
       "    </tr>\n",
       "  </thead>\n",
       "  <tbody>\n",
       "    <tr>\n",
       "      <th>count</th>\n",
       "      <td>284.000000</td>\n",
       "    </tr>\n",
       "    <tr>\n",
       "      <th>mean</th>\n",
       "      <td>58.096035</td>\n",
       "    </tr>\n",
       "    <tr>\n",
       "      <th>std</th>\n",
       "      <td>6.652294</td>\n",
       "    </tr>\n",
       "    <tr>\n",
       "      <th>min</th>\n",
       "      <td>32.505000</td>\n",
       "    </tr>\n",
       "    <tr>\n",
       "      <th>25%</th>\n",
       "      <td>54.837500</td>\n",
       "    </tr>\n",
       "    <tr>\n",
       "      <th>50%</th>\n",
       "      <td>58.200000</td>\n",
       "    </tr>\n",
       "    <tr>\n",
       "      <th>75%</th>\n",
       "      <td>62.400000</td>\n",
       "    </tr>\n",
       "    <tr>\n",
       "      <th>max</th>\n",
       "      <td>79.600000</td>\n",
       "    </tr>\n",
       "  </tbody>\n",
       "</table>\n",
       "</div>"
      ],
      "text/plain": [
       "       Puntaje Obtenido\n",
       "count        284.000000\n",
       "mean          58.096035\n",
       "std            6.652294\n",
       "min           32.505000\n",
       "25%           54.837500\n",
       "50%           58.200000\n",
       "75%           62.400000\n",
       "max           79.600000"
      ]
     },
     "execution_count": 404,
     "metadata": {},
     "output_type": "execute_result"
    }
   ],
   "source": [
    "historic_up.describe()"
   ]
  }
 ],
 "metadata": {
  "interpreter": {
   "hash": "916dbcbb3f70747c44a77c7bcd40155683ae19c65e1c03b4aa3499c5328201f1"
  },
  "kernelspec": {
   "display_name": "Python 3.8.10 64-bit",
   "language": "python",
   "name": "python3"
  },
  "language_info": {
   "codemirror_mode": {
    "name": "ipython",
    "version": 3
   },
   "file_extension": ".py",
   "mimetype": "text/x-python",
   "name": "python",
   "nbconvert_exporter": "python",
   "pygments_lexer": "ipython3",
   "version": "3.8.10"
  },
  "orig_nbformat": 4
 },
 "nbformat": 4,
 "nbformat_minor": 2
}
