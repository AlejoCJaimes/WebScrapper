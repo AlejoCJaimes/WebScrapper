{
 "cells": [
  {
   "cell_type": "code",
   "execution_count": 149,
   "metadata": {},
   "outputs": [],
   "source": [
    "import pandas as pd\n",
    "import numpy as np\n",
    "from tabulate import tabulate"
   ]
  },
  {
   "cell_type": "code",
   "execution_count": 151,
   "metadata": {},
   "outputs": [],
   "source": [
    "# resource = 'https://drive.google.com/uc?export=download&id=1by5_2HhJ4WO5VBJ0Tc9OZStPqDwiAUYW'\n",
    "resource = 'https://drive.google.com/uc?export=download&id=15tURO14aosIqB2pIc-fJQ_pgHAPM8Ho-'\n",
    "dataset = pd.read_csv(resource)"
   ]
  },
  {
   "cell_type": "markdown",
   "metadata": {},
   "source": [
    "## Definir Ponderacion\n",
    "___\n",
    "\n",
    "- Ponderaciones asignadas al programa académico de Ingeniería de Sistemas (UIS)\n",
    "  \n",
    "|Ciencias Naturales|Lectura Crítica|Matemáticas|Sociales y Ciudadanias|Inglés|\n",
    "|--|--|--|--|--|\n",
    "|25%|20%|35%|10%|10%| "
   ]
  },
  {
   "cell_type": "markdown",
   "metadata": {},
   "source": [
    "## Proceso de Selección\n",
    "___\n",
    "\n",
    "- Multiplicacion del ponderado asignado a cada una de las áreas del ICFES \n",
    "   de la universidad por el valor de los resultados del Exámen ICFES Saber 11\n"
   ]
  },
  {
   "cell_type": "code",
   "execution_count": 152,
   "metadata": {},
   "outputs": [],
   "source": [
    "def selection_process(dataset):\n",
    "    # Define ponderation\n",
    "    nature_sciences = 0.25\n",
    "    critical_reading = 0.2\n",
    "    maths = 0.35\n",
    "    sociology = 0.1\n",
    "    english = 0.1\n",
    "\n",
    "    # create sub_dataset \n",
    "    columns=['punt_lectura_critica',\n",
    "            'punt_matematicas',\n",
    "            'punt_c_naturales',\n",
    "            'punt_sociales_ciudadanas',\n",
    "            'punt_ingles',\n",
    "            'punt_global']\n",
    "\n",
    "    df = pd.DataFrame(data=dataset,index=None,columns=columns)\n",
    "\n",
    "    # transform_columns\n",
    "\n",
    "    df['punt_lectura_critica'] = df['punt_lectura_critica'] * critical_reading\n",
    "    df['punt_matematicas'] = df['punt_matematicas'] * maths\n",
    "    df['punt_c_naturales'] = df['punt_c_naturales'] * nature_sciences\n",
    "    df['punt_sociales_ciudadanas'] = df['punt_sociales_ciudadanas'] * sociology\n",
    "    df['punt_ingles'] = df['punt_ingles'] * english\n",
    "\n",
    "    # calculate punt_ponderate\n",
    "    df['punt_ponderado'] = df.iloc[:,:5].sum(axis=1)\n",
    "\n",
    "    # move the last column to penult position\n",
    "    df_cols = df.columns.tolist()\n",
    "    reorder = columns[:-1] + df_cols[-1:]\n",
    "    reorder.append(columns[-1])\n",
    "    reorder\n",
    "\n",
    "    df = df[reorder]\n",
    "    return df.sort_values(by=['punt_ponderado','punt_global'], ascending=False)"
   ]
  },
  {
   "cell_type": "markdown",
   "metadata": {},
   "source": [
    "### Porcentaje de Selección\n",
    "___\n",
    "- Para seleccionar un top de 5 puestos, se define:\n",
    "\n",
    "|Puesto|%Ponderado|\n",
    "|--|--|\n",
    "|1|> 60%|\n",
    "|2|[55% - 60%)|\n",
    "|3|[45% - 55%)|\n",
    "|4|[35% - 45%)|\n",
    "|5|< 35%|\n"
   ]
  },
  {
   "cell_type": "markdown",
   "metadata": {},
   "source": [
    "#"
   ]
  },
  {
   "cell_type": "code",
   "execution_count": 157,
   "metadata": {},
   "outputs": [
    {
     "data": {
      "text/plain": [
       "(15435, 8)"
      ]
     },
     "execution_count": 157,
     "metadata": {},
     "output_type": "execute_result"
    }
   ],
   "source": [
    "# conditions\n",
    "def define_top(df):\n",
    "    df_positions = df.copy()\n",
    "    df_positions['puesto'] = np.where(df_positions.punt_ponderado>60,1,\n",
    "                                np.where((df_positions.punt_ponderado>=55) & (df_positions.punt_ponderado<60),2,\n",
    "                                np.where((df_positions.punt_ponderado>=45) & (df_positions.punt_ponderado<55),3,\n",
    "                                np.where((df_positions.punt_ponderado>=35) & (df_positions.punt_ponderado<45),4,\n",
    "                                np.where(df_positions.punt_ponderado<35,5,0)))))\n",
    "    return df_positions.sort_values(by=['punt_ponderado','punt_global'], ascending=False)\n",
    "\n",
    "df = selection_process(dataset)\n",
    "df_positions= define_top(df)\n",
    "\n",
    "df_positions.shape"
   ]
  }
 ],
 "metadata": {
  "interpreter": {
   "hash": "916dbcbb3f70747c44a77c7bcd40155683ae19c65e1c03b4aa3499c5328201f1"
  },
  "kernelspec": {
   "display_name": "Python 3.8.10 64-bit",
   "language": "python",
   "name": "python3"
  },
  "language_info": {
   "codemirror_mode": {
    "name": "ipython",
    "version": 3
   },
   "file_extension": ".py",
   "mimetype": "text/x-python",
   "name": "python",
   "nbconvert_exporter": "python",
   "pygments_lexer": "ipython3",
   "version": "3.8.10"
  },
  "orig_nbformat": 4
 },
 "nbformat": 4,
 "nbformat_minor": 2
}
